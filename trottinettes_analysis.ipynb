{
 "cells": [
  {
   "cell_type": "code",
   "execution_count": 1,
   "id": "8a06bd9b",
   "metadata": {},
   "outputs": [],
   "source": [
    "import numpy as np\n",
    "import pandas as pd\n",
    "import matplotlib.pyplot as plt\n",
    "import seaborn as sns"
   ]
  },
  {
   "cell_type": "code",
   "execution_count": 2,
   "id": "d27ff14e",
   "metadata": {},
   "outputs": [],
   "source": [
    "%matplotlib inline"
   ]
  },
  {
   "cell_type": "code",
   "execution_count": 6,
   "id": "fb4005a9",
   "metadata": {},
   "outputs": [],
   "source": [
    "scooters20 = pd.read_csv('marseille-trottinettes-2020.csv')"
   ]
  },
  {
   "cell_type": "code",
   "execution_count": 7,
   "id": "ab84344d",
   "metadata": {},
   "outputs": [
    {
     "data": {
      "text/html": [
       "<div>\n",
       "<style scoped>\n",
       "    .dataframe tbody tr th:only-of-type {\n",
       "        vertical-align: middle;\n",
       "    }\n",
       "\n",
       "    .dataframe tbody tr th {\n",
       "        vertical-align: top;\n",
       "    }\n",
       "\n",
       "    .dataframe thead th {\n",
       "        text-align: right;\n",
       "    }\n",
       "</style>\n",
       "<table border=\"1\" class=\"dataframe\">\n",
       "  <thead>\n",
       "    <tr style=\"text-align: right;\">\n",
       "      <th></th>\n",
       "      <th>collectiviteNom</th>\n",
       "      <th>collectiviteSiret</th>\n",
       "      <th>annee</th>\n",
       "      <th>semaineNumero</th>\n",
       "      <th>typeEDP</th>\n",
       "      <th>nbEDPdeployes</th>\n",
       "      <th>nbTrajets</th>\n",
       "    </tr>\n",
       "  </thead>\n",
       "  <tbody>\n",
       "    <tr>\n",
       "      <th>0</th>\n",
       "      <td>Ville de Marseille</td>\n",
       "      <td>21130055300016</td>\n",
       "      <td>2020</td>\n",
       "      <td>1</td>\n",
       "      <td>Trottinette électrique</td>\n",
       "      <td>2201</td>\n",
       "      <td>15407</td>\n",
       "    </tr>\n",
       "    <tr>\n",
       "      <th>1</th>\n",
       "      <td>Ville de Marseille</td>\n",
       "      <td>21130055300016</td>\n",
       "      <td>2020</td>\n",
       "      <td>2</td>\n",
       "      <td>Trottinette électrique</td>\n",
       "      <td>2072</td>\n",
       "      <td>23775</td>\n",
       "    </tr>\n",
       "    <tr>\n",
       "      <th>2</th>\n",
       "      <td>Ville de Marseille</td>\n",
       "      <td>21130055300016</td>\n",
       "      <td>2020</td>\n",
       "      <td>3</td>\n",
       "      <td>Trottinette électrique</td>\n",
       "      <td>1863</td>\n",
       "      <td>21356</td>\n",
       "    </tr>\n",
       "    <tr>\n",
       "      <th>3</th>\n",
       "      <td>Ville de Marseille</td>\n",
       "      <td>21130055300016</td>\n",
       "      <td>2020</td>\n",
       "      <td>4</td>\n",
       "      <td>Trottinette électrique</td>\n",
       "      <td>1899</td>\n",
       "      <td>16218</td>\n",
       "    </tr>\n",
       "    <tr>\n",
       "      <th>4</th>\n",
       "      <td>Ville de Marseille</td>\n",
       "      <td>21130055300016</td>\n",
       "      <td>2020</td>\n",
       "      <td>5</td>\n",
       "      <td>Trottinette électrique</td>\n",
       "      <td>1993</td>\n",
       "      <td>18122</td>\n",
       "    </tr>\n",
       "  </tbody>\n",
       "</table>\n",
       "</div>"
      ],
      "text/plain": [
       "      collectiviteNom  collectiviteSiret  annee  semaineNumero  \\\n",
       "0  Ville de Marseille     21130055300016   2020              1   \n",
       "1  Ville de Marseille     21130055300016   2020              2   \n",
       "2  Ville de Marseille     21130055300016   2020              3   \n",
       "3  Ville de Marseille     21130055300016   2020              4   \n",
       "4  Ville de Marseille     21130055300016   2020              5   \n",
       "\n",
       "                  typeEDP  nbEDPdeployes  nbTrajets  \n",
       "0  Trottinette électrique           2201      15407  \n",
       "1  Trottinette électrique           2072      23775  \n",
       "2  Trottinette électrique           1863      21356  \n",
       "3  Trottinette électrique           1899      16218  \n",
       "4  Trottinette électrique           1993      18122  "
      ]
     },
     "execution_count": 7,
     "metadata": {},
     "output_type": "execute_result"
    }
   ],
   "source": [
    "scooters20.head()"
   ]
  },
  {
   "cell_type": "code",
   "execution_count": 10,
   "id": "b4e97f6b",
   "metadata": {},
   "outputs": [],
   "source": [
    "sns.set_context(\"poster\")"
   ]
  },
  {
   "cell_type": "code",
   "execution_count": 18,
   "id": "59d735b4",
   "metadata": {},
   "outputs": [
    {
     "data": {
      "text/plain": [
       "<AxesSubplot:xlabel='semaineNumero', ylabel='nbTrajets'>"
      ]
     },
     "execution_count": 18,
     "metadata": {},
     "output_type": "execute_result"
    },
    {
     "data": {
      "image/png": "[encoded data removed]",
      "text/plain": [
       "<Figure size 432x288 with 1 Axes>"
      ]
     },
     "metadata": {
      "needs_background": "light"
     },
     "output_type": "display_data"
    }
   ],
   "source": [
    "sns.lineplot(data=scooters20, x='semaineNumero', y='nbTrajets', palette='purple')"
   ]
  },
  {
   "cell_type": "code",
   "execution_count": 23,
   "id": "bfdc4112",
   "metadata": {},
   "outputs": [],
   "source": [
    "mini = scooters20[['semaineNumero', 'nbTrajets', 'nbEDPdeployes']]\n",
    "# df[['C', 'D', 'E']] "
   ]
  },
  {
   "cell_type": "code",
   "execution_count": 24,
   "id": "74e7e393",
   "metadata": {},
   "outputs": [
    {
     "data": {
      "text/html": [
       "<div>\n",
       "<style scoped>\n",
       "    .dataframe tbody tr th:only-of-type {\n",
       "        vertical-align: middle;\n",
       "    }\n",
       "\n",
       "    .dataframe tbody tr th {\n",
       "        vertical-align: top;\n",
       "    }\n",
       "\n",
       "    .dataframe thead th {\n",
       "        text-align: right;\n",
       "    }\n",
       "</style>\n",
       "<table border=\"1\" class=\"dataframe\">\n",
       "  <thead>\n",
       "    <tr style=\"text-align: right;\">\n",
       "      <th></th>\n",
       "      <th>semaineNumero</th>\n",
       "      <th>nbTrajets</th>\n",
       "      <th>nbEDPdeployes</th>\n",
       "    </tr>\n",
       "  </thead>\n",
       "  <tbody>\n",
       "    <tr>\n",
       "      <th>0</th>\n",
       "      <td>1</td>\n",
       "      <td>15407</td>\n",
       "      <td>2201</td>\n",
       "    </tr>\n",
       "    <tr>\n",
       "      <th>1</th>\n",
       "      <td>2</td>\n",
       "      <td>23775</td>\n",
       "      <td>2072</td>\n",
       "    </tr>\n",
       "    <tr>\n",
       "      <th>2</th>\n",
       "      <td>3</td>\n",
       "      <td>21356</td>\n",
       "      <td>1863</td>\n",
       "    </tr>\n",
       "    <tr>\n",
       "      <th>3</th>\n",
       "      <td>4</td>\n",
       "      <td>16218</td>\n",
       "      <td>1899</td>\n",
       "    </tr>\n",
       "    <tr>\n",
       "      <th>4</th>\n",
       "      <td>5</td>\n",
       "      <td>18122</td>\n",
       "      <td>1993</td>\n",
       "    </tr>\n",
       "  </tbody>\n",
       "</table>\n",
       "</div>"
      ],
      "text/plain": [
       "   semaineNumero  nbTrajets  nbEDPdeployes\n",
       "0              1      15407           2201\n",
       "1              2      23775           2072\n",
       "2              3      21356           1863\n",
       "3              4      16218           1899\n",
       "4              5      18122           1993"
      ]
     },
     "execution_count": 24,
     "metadata": {},
     "output_type": "execute_result"
    }
   ],
   "source": [
    "mini.head()"
   ]
  },
  {
   "cell_type": "code",
   "execution_count": 25,
   "id": "82667f46",
   "metadata": {},
   "outputs": [],
   "source": [
    "dfm = mini.melt('semaineNumero', var_name='cols', value_name='vals')"
   ]
  },
  {
   "cell_type": "code",
   "execution_count": 26,
   "id": "d8fe7c95",
   "metadata": {},
   "outputs": [
    {
     "data": {
      "text/html": [
       "<div>\n",
       "<style scoped>\n",
       "    .dataframe tbody tr th:only-of-type {\n",
       "        vertical-align: middle;\n",
       "    }\n",
       "\n",
       "    .dataframe tbody tr th {\n",
       "        vertical-align: top;\n",
       "    }\n",
       "\n",
       "    .dataframe thead th {\n",
       "        text-align: right;\n",
       "    }\n",
       "</style>\n",
       "<table border=\"1\" class=\"dataframe\">\n",
       "  <thead>\n",
       "    <tr style=\"text-align: right;\">\n",
       "      <th></th>\n",
       "      <th>semaineNumero</th>\n",
       "      <th>cols</th>\n",
       "      <th>vals</th>\n",
       "    </tr>\n",
       "  </thead>\n",
       "  <tbody>\n",
       "    <tr>\n",
       "      <th>0</th>\n",
       "      <td>1</td>\n",
       "      <td>nbTrajets</td>\n",
       "      <td>15407</td>\n",
       "    </tr>\n",
       "    <tr>\n",
       "      <th>1</th>\n",
       "      <td>2</td>\n",
       "      <td>nbTrajets</td>\n",
       "      <td>23775</td>\n",
       "    </tr>\n",
       "    <tr>\n",
       "      <th>2</th>\n",
       "      <td>3</td>\n",
       "      <td>nbTrajets</td>\n",
       "      <td>21356</td>\n",
       "    </tr>\n",
       "    <tr>\n",
       "      <th>3</th>\n",
       "      <td>4</td>\n",
       "      <td>nbTrajets</td>\n",
       "      <td>16218</td>\n",
       "    </tr>\n",
       "    <tr>\n",
       "      <th>4</th>\n",
       "      <td>5</td>\n",
       "      <td>nbTrajets</td>\n",
       "      <td>18122</td>\n",
       "    </tr>\n",
       "    <tr>\n",
       "      <th>...</th>\n",
       "      <td>...</td>\n",
       "      <td>...</td>\n",
       "      <td>...</td>\n",
       "    </tr>\n",
       "    <tr>\n",
       "      <th>101</th>\n",
       "      <td>49</td>\n",
       "      <td>nbEDPdeployes</td>\n",
       "      <td>3029</td>\n",
       "    </tr>\n",
       "    <tr>\n",
       "      <th>102</th>\n",
       "      <td>50</td>\n",
       "      <td>nbEDPdeployes</td>\n",
       "      <td>3160</td>\n",
       "    </tr>\n",
       "    <tr>\n",
       "      <th>103</th>\n",
       "      <td>51</td>\n",
       "      <td>nbEDPdeployes</td>\n",
       "      <td>3056</td>\n",
       "    </tr>\n",
       "    <tr>\n",
       "      <th>104</th>\n",
       "      <td>52</td>\n",
       "      <td>nbEDPdeployes</td>\n",
       "      <td>3084</td>\n",
       "    </tr>\n",
       "    <tr>\n",
       "      <th>105</th>\n",
       "      <td>53</td>\n",
       "      <td>nbEDPdeployes</td>\n",
       "      <td>2770</td>\n",
       "    </tr>\n",
       "  </tbody>\n",
       "</table>\n",
       "<p>106 rows × 3 columns</p>\n",
       "</div>"
      ],
      "text/plain": [
       "     semaineNumero           cols   vals\n",
       "0                1      nbTrajets  15407\n",
       "1                2      nbTrajets  23775\n",
       "2                3      nbTrajets  21356\n",
       "3                4      nbTrajets  16218\n",
       "4                5      nbTrajets  18122\n",
       "..             ...            ...    ...\n",
       "101             49  nbEDPdeployes   3029\n",
       "102             50  nbEDPdeployes   3160\n",
       "103             51  nbEDPdeployes   3056\n",
       "104             52  nbEDPdeployes   3084\n",
       "105             53  nbEDPdeployes   2770\n",
       "\n",
       "[106 rows x 3 columns]"
      ]
     },
     "execution_count": 26,
     "metadata": {},
     "output_type": "execute_result"
    }
   ],
   "source": [
    "dfm"
   ]
  },
  {
   "cell_type": "code",
   "execution_count": 31,
   "id": "3d0abc8b",
   "metadata": {},
   "outputs": [],
   "source": [
    "sns.set(rc={'figure.figsize':(12,8)})"
   ]
  },
  {
   "cell_type": "code",
   "execution_count": 32,
   "id": "e92babbc",
   "metadata": {},
   "outputs": [
    {
     "data": {
      "text/plain": [
       "<AxesSubplot:xlabel='semaineNumero', ylabel='vals'>"
      ]
     },
     "execution_count": 32,
     "metadata": {},
     "output_type": "execute_result"
    },
    {
     "data": {
      "image/png": "[encoded data removed]",
      "text/plain": [
       "<Figure size 864x576 with 1 Axes>"
      ]
     },
     "metadata": {},
     "output_type": "display_data"
    }
   ],
   "source": [
    "sns.pointplot(x=\"semaineNumero\", y=\"vals\", hue='cols', data=dfm)"
   ]
  },
  {
   "cell_type": "code",
   "execution_count": null,
   "id": "3fb85341",
   "metadata": {},
   "outputs": [],
   "source": []
  }
 ],
 "metadata": {
  "kernelspec": {
   "display_name": "Python 3",
   "language": "python",
   "name": "python3"
  },
  "language_info": {
   "codemirror_mode": {
    "name": "ipython",
    "version": 3
   },
   "file_extension": ".py",
   "mimetype": "text/x-python",
   "name": "python",
   "nbconvert_exporter": "python",
   "pygments_lexer": "ipython3",
   "version": "3.8.8"
  }
 },
 "nbformat": 4,
 "nbformat_minor": 5
}
